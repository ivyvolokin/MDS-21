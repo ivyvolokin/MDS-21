{
 "cells": [
  {
   "cell_type": "code",
   "execution_count": null,
   "metadata": {},
   "outputs": [],
   "source": [
    "# Даны вектора x = (1,1), y = (2, 0) и z = (0,2)\n",
    "\n",
    "# Надо:\n",
    "\n",
    "# Изобразить вектора на экране\n",
    "# Изобразить точку x + y + z\n",
    "# Найти угол между векторами x и y"
   ]
  },
  {
   "cell_type": "code",
   "execution_count": 1,
   "metadata": {},
   "outputs": [],
   "source": [
    "import numpy as np\n",
    "\n",
    "x = np.array([1., 2.])\n",
    "y = np.array([2., 0.])\n",
    "z = np.array([0., 2.])\n",
    "\n"
   ]
  },
  {
   "cell_type": "code",
   "execution_count": 2,
   "metadata": {},
   "outputs": [
    {
     "data": {
      "image/png": "[encoded data removed]",
      "text/plain": [
       "<Figure size 432x288 with 1 Axes>"
      ]
     },
     "metadata": {
      "needs_background": "light"
     },
     "output_type": "display_data"
    }
   ],
   "source": [
    "import matplotlib.pyplot as plt\n",
    "plt.plot(x[0], x[1], 'o')\n",
    "plt.plot(y[0], y[1], 'o')\n",
    "plt.plot(z[0], z[1], 'o')\n",
    "plt.grid()\n"
   ]
  },
  {
   "cell_type": "code",
   "execution_count": 3,
   "metadata": {},
   "outputs": [
    {
     "data": {
      "image/png": "[encoded data removed]",
      "text/plain": [
       "<Figure size 432x288 with 1 Axes>"
      ]
     },
     "metadata": {
      "needs_background": "light"
     },
     "output_type": "display_data"
    }
   ],
   "source": [
    "xyz = x + y + z\n",
    "plt.plot(xyz[0], xyz[1], 'o')\n",
    "plt.grid()"
   ]
  },
  {
   "cell_type": "code",
   "execution_count": 33,
   "metadata": {},
   "outputs": [
    {
     "name": "stdout",
     "output_type": "stream",
     "text": [
      "1.1071487177940904 rad\n",
      "63.4 °\n"
     ]
    }
   ],
   "source": [
    "from math import *\n",
    "\n",
    "xy = np.dot(x, y)\n",
    "\n",
    "x_len = sqrt((fabs(x[0]) ** 2) + (fabs(x[1]) ** 2))\n",
    "y_len = sqrt((fabs(y[0]) ** 2) + (fabs(y[1]) ** 2))\n",
    "\n",
    "print(acos(xy / (x_len * y_len)), 'rad')\n",
    "print(round(np.rad2deg(acos(xy / (x_len * y_len))), 1), '\\u00b0')"
   ]
  }
 ],
 "metadata": {
  "kernelspec": {
   "display_name": "Python 3",
   "language": "python",
   "name": "python3"
  },
  "language_info": {
   "codemirror_mode": {
    "name": "ipython",
    "version": 3
   },
   "file_extension": ".py",
   "mimetype": "text/x-python",
   "name": "python",
   "nbconvert_exporter": "python",
   "pygments_lexer": "ipython3",
   "version": "3.8.3"
  }
 },
 "nbformat": 4,
 "nbformat_minor": 4
}
