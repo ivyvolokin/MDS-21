{
 "cells": [
  {
   "cell_type": "code",
   "execution_count": 4,
   "metadata": {},
   "outputs": [],
   "source": [
    "import numpy as np\n",
    "from scipy.optimize import approx_fprime"
   ]
  },
  {
   "cell_type": "markdown",
   "metadata": {},
   "source": [
    "Уровень 0:\n",
    "Посчитайте частные производные функций:\n",
    "\n",
    "1) $f(x,y)=2x^2y^3 + 1/x + y^2x + 7$, а для этой функции также градиент в точке $(1,2)$\n",
    "\n",
    "2) $f(x,y)=x^2y - sin(xy) + cos(x^2) + 6y$"
   ]
  },
  {
   "cell_type": "code",
   "execution_count": 20,
   "metadata": {},
   "outputs": [],
   "source": [
    "def f1(a, c0, c1, c2, c3):\n",
    "    return (c0 * (a[0]**2) * (a[1] ** 3)) + c1 * (1/ a[0]) + c2 * (a[1] ** 2 * a[0]) + c3"
   ]
  },
  {
   "cell_type": "code",
   "execution_count": 23,
   "metadata": {},
   "outputs": [
    {
     "data": {
      "text/plain": [
       "28.0"
      ]
     },
     "execution_count": 23,
     "metadata": {},
     "output_type": "execute_result"
    }
   ],
   "source": [
    "c0, c1, c2, c3 = 2, 1, 1, 7\n",
    "a = [1, 2]\n",
    "def f1(a, c0, c1, c2, c3):\n",
    "    return (c0 * (a[0]**2) * (a[1] ** 3)) + c1 * (1/ a[0]) + c2 * (a[1] ** 2 * a[0]) + c3\n",
    "f1(a, c0, c1, c2, c3)"
   ]
  },
  {
   "cell_type": "code",
   "execution_count": 12,
   "metadata": {},
   "outputs": [
    {
     "name": "stdout",
     "output_type": "stream",
     "text": [
      "F`х(x,y): 4*x*y**3 + y**2 - 1/x**2\n",
      "F`y(x,y): 6*x**2*y**2 + 2*x*y\n"
     ]
    }
   ],
   "source": [
    "from sympy import *\n",
    "x, y = symbols('x y')\n",
    "\n",
    "print(f'F`х(x,y): {diff((2*x**2*y**3) + 1/x + (y**2*x) + 7, x)}') #Частная производная по х\n",
    "print(f'F`y(x,y): {diff((2*x**2*y**3) + 1/x + (y**2*x) + 7, y)}') #Частная производная по y"
   ]
  },
  {
   "cell_type": "code",
   "execution_count": 13,
   "metadata": {},
   "outputs": [
    {
     "data": {
      "text/plain": [
       "array([35., 28.])"
      ]
     },
     "execution_count": 13,
     "metadata": {},
     "output_type": "execute_result"
    }
   ],
   "source": [
    "#для градиента в точке (1;2)\n",
    "x = 1\n",
    "y = 2\n",
    "\n",
    "fx = (4*x*y**3 + y**2 - 1/x**2) # значение частной производной по x в т. (1, 2)\n",
    "fy = (6*x**2*y**2 + 2*x*y) #находим значение частной производной по y в т. (1, 2)\n",
    "\n",
    "grad = np.array([fx,fy])\n",
    "grad"
   ]
  },
  {
   "cell_type": "markdown",
   "metadata": {},
   "source": [
    "2)  𝑓(𝑥,𝑦)=𝑥2𝑦−𝑠𝑖𝑛(𝑥𝑦)+𝑐𝑜𝑠(𝑥2)+6𝑦"
   ]
  },
  {
   "cell_type": "code",
   "execution_count": 10,
   "metadata": {},
   "outputs": [
    {
     "name": "stdout",
     "output_type": "stream",
     "text": [
      "F`х(x,y): 2*y**3 - y*cos(x*y)\n",
      "F`y(x,y): 6*x*y**2 - x*cos(x*y) - 2*y*sin(y**2) + 6\n"
     ]
    }
   ],
   "source": [
    "def f2(v,c0,c1,c2,c3):\n",
    "    return (c0 * v[0]**2*v[1]) + c1 * sin(v[0]*v[1]) + c2 * cos(v[1]**2) + c3*v[1]\n",
    "\n",
    "c0,c1,c2,c3 = (1, -1 ,1, 6)\n",
    "\n",
    "from math import sin, cos\n",
    "from sympy import *\n",
    "\n",
    "x, y = symbols('x y')\n",
    "print(f'F`х(x,y): {diff((x*2*y**3) - sin(x*y) + cos(y**2) + 6*y, x)}') #Частная производная по х\n",
    "print(f'F`y(x,y): {diff((x*2*y**3) - sin(x*y) + cos(y**2) + 6*y, y)}')#Частная производная по y"
   ]
  },
  {
   "cell_type": "markdown",
   "metadata": {},
   "source": [
    "Уровень 1:\n",
    "Градиентный спуск своими руками:"
   ]
  },
  {
   "cell_type": "code",
   "execution_count": null,
   "metadata": {},
   "outputs": [],
   "source": [
    "def f(x):\n",
    "    return (x[0]**2) + (x[1]**2)"
   ]
  },
  {
   "cell_type": "code",
   "execution_count": null,
   "metadata": {},
   "outputs": [],
   "source": [
    "x = np.array([100, 200])\n",
    "learning_rate = 0.1"
   ]
  },
  {
   "cell_type": "code",
   "execution_count": null,
   "metadata": {},
   "outputs": [],
   "source": [
    "for i in range(100):\n",
    "    # Calculate gradient\n",
    "    grad = # Your code here (функция для вычисления градиента есть в лекционном ноутбуке)\n",
    "    \n",
    "    # Update x with gradient\n",
    "    x = # Your code here (смотри слайд презентации про градиентный спуск)"
   ]
  },
  {
   "cell_type": "code",
   "execution_count": null,
   "metadata": {},
   "outputs": [],
   "source": [
    "print(\"Минимум достигается в: \", x)\n",
    "print(\"Значение функции в минимуме: \", f(x))"
   ]
  },
  {
   "cell_type": "markdown",
   "metadata": {},
   "source": [
    "Проверка с помощью встроенной функции numpy:"
   ]
  },
  {
   "cell_type": "code",
   "execution_count": null,
   "metadata": {},
   "outputs": [],
   "source": []
  }
 ],
 "metadata": {
  "kernelspec": {
   "display_name": "Python 3",
   "language": "python",
   "name": "python3"
  },
  "language_info": {
   "codemirror_mode": {
    "name": "ipython",
    "version": 3
   },
   "file_extension": ".py",
   "mimetype": "text/x-python",
   "name": "python",
   "nbconvert_exporter": "python",
   "pygments_lexer": "ipython3",
   "version": "3.8.3"
  }
 },
 "nbformat": 4,
 "nbformat_minor": 4
}
